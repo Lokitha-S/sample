{
 "cells": [
  {
   "cell_type": "code",
   "execution_count": 5,
   "id": "6c89174d-92bf-40c7-80e0-0bd6f3a540ed",
   "metadata": {},
   "outputs": [
    {
     "name": "stdout",
     "output_type": "stream",
     "text": [
      "max: 100\n"
     ]
    }
   ],
   "source": [
    "a=[1,6,27,80.4,100,14.4]\n",
    "print('max:',max(a))"
   ]
  },
  {
   "cell_type": "code",
   "execution_count": null,
   "id": "960be080-90e0-4c0c-bcc5-b43695701708",
   "metadata": {},
   "outputs": [],
   "source": []
  },
  {
   "cell_type": "code",
   "execution_count": null,
   "id": "eec70fe3-fa3e-4b2d-b99a-952fdc65ae73",
   "metadata": {},
   "outputs": [],
   "source": []
  },
  {
   "cell_type": "code",
   "execution_count": null,
   "id": "65823bc4-9d13-4293-8916-fe1052e9d3a3",
   "metadata": {},
   "outputs": [],
   "source": []
  },
  {
   "cell_type": "code",
   "execution_count": null,
   "id": "7f9c9ed4-9cb4-40a9-aa2e-e1d1001595dc",
   "metadata": {},
   "outputs": [],
   "source": []
  },
  {
   "cell_type": "code",
   "execution_count": null,
   "id": "4d34cb6e-7c17-4350-9e7a-2c8a4f673cca",
   "metadata": {},
   "outputs": [],
   "source": []
  },
  {
   "cell_type": "code",
   "execution_count": null,
   "id": "cda9ab46-7aad-48ab-926a-975f7f6f99c0",
   "metadata": {},
   "outputs": [],
   "source": []
  },
  {
   "cell_type": "code",
   "execution_count": null,
   "id": "aa03998d-1d9c-4ab7-8bcb-305667b844b3",
   "metadata": {},
   "outputs": [],
   "source": []
  }
 ],
 "metadata": {
  "kernelspec": {
   "display_name": "Python 3 (ipykernel)",
   "language": "python",
   "name": "python3"
  },
  "language_info": {
   "codemirror_mode": {
    "name": "ipython",
    "version": 3
   },
   "file_extension": ".py",
   "mimetype": "text/x-python",
   "name": "python",
   "nbconvert_exporter": "python",
   "pygments_lexer": "ipython3",
   "version": "3.12.4"
  }
 },
 "nbformat": 4,
 "nbformat_minor": 5
}
