{
 "cells": [
  {
   "cell_type": "code",
   "execution_count": 2,
   "id": "a90c3995-9f2e-4e6b-a3d5-c585b2cc1c72",
   "metadata": {},
   "outputs": [
    {
     "name": "stdin",
     "output_type": "stream",
     "text": [
      "Enter the amount to be withdrawn: 20\n",
      "enter the number of 10's you want to get= 50\n"
     ]
    },
    {
     "name": "stdout",
     "output_type": "stream",
     "text": [
      "successfully you have withdrawn 50 10's notes\n"
     ]
    }
   ],
   "source": [
    "a=1000\n",
    "b=100\n",
    "c=20\n",
    "d=10\n",
    "\n",
    "i=int(input(\"Enter the amount to be withdrawn:\"))\n",
    "if a<i:\n",
    "    print(\"insuffient balance\");\n",
    "else:\n",
    "    x=int(input(\"enter the number of 10's you want to get=\"))\n",
    "    if (x*10)>a:\n",
    "        print(\"insuffient 10's\")\n",
    "    else:\n",
    "        print(\"successfully you have withdrawn {} 10's notes\".format(x))"
   ]
  },
  {
   "cell_type": "code",
   "execution_count": 6,
   "id": "54a3955e-2d73-4dff-b959-a8a86d9aeb1a",
   "metadata": {},
   "outputs": [
    {
     "name": "stdin",
     "output_type": "stream",
     "text": [
      "Enter the no of late days: 4\n"
     ]
    },
    {
     "name": "stdout",
     "output_type": "stream",
     "text": [
      "Fine:$ 2.0\n"
     ]
    }
   ],
   "source": [
    "late=int(input('Enter the no of late days:'))\n",
    "price=0\n",
    "if late<=5:\n",
    "    price=(late*0.5)\n",
    "    print('Fine:$',price)\n",
    "elif late<=10:\n",
    "    price=(late*1)\n",
    "    print('Fine:$',price)\n",
    "elif late>30:\n",
    "    price=(late*5)\n",
    "    print('Fine:$',price)\n",
    "else:\n",
    "    print('Membership cancelled')\n",
    "    \n",
    "    "
   ]
  },
  {
   "cell_type": "code",
   "execution_count": 11,
   "id": "60badb9d-a53e-410d-a316-16c6cbc2b909",
   "metadata": {},
   "outputs": [
    {
     "name": "stdin",
     "output_type": "stream",
     "text": [
      "Enter the no: 49\n"
     ]
    },
    {
     "name": "stdout",
     "output_type": "stream",
     "text": [
      "Odd no\n"
     ]
    }
   ],
   "source": [
    "num=int(input('Enter the no:'))\n",
    "if num%2==0:\n",
    "    print('Even no')\n",
    "else:\n",
    "    print('Odd no')"
   ]
  },
  {
   "cell_type": "code",
   "execution_count": 16,
   "id": "f412fb0e-6d6a-4b6b-a77b-67539d2e490f",
   "metadata": {},
   "outputs": [
    {
     "name": "stdout",
     "output_type": "stream",
     "text": [
      "1\n",
      "34\n",
      "67\n",
      "97\n"
     ]
    }
   ],
   "source": [
    "num=[1,34,67,97]\n",
    "for i in num:\n",
    "    print(i)\n"
   ]
  },
  {
   "cell_type": "code",
   "execution_count": 22,
   "id": "e4b82387-fcb4-4248-beb8-fe5f294ef73a",
   "metadata": {},
   "outputs": [
    {
     "name": "stdout",
     "output_type": "stream",
     "text": [
      "sum of all primes below two hundred:  4227\n"
     ]
    }
   ],
   "source": [
    "sum_primes = 0\n",
    "for num in range(2, 200):\n",
    "  is_prime = True\n",
    "  for i in range(2, int(num**0.5) + 1):\n",
    "    if num % i == 0:\n",
    "      is_prime = False\n",
    "      break\n",
    "  if is_prime:\n",
    "    sum_primes += num\n",
    "\n",
    "print('sum of all primes below two hundred: ',sum_primes)"
   ]
  },
  {
   "cell_type": "code",
   "execution_count": 41,
   "id": "6c7c0682-dda0-49a1-ba64-932a42a4c9cd",
   "metadata": {},
   "outputs": [
    {
     "name": "stdin",
     "output_type": "stream",
     "text": [
      "Enter the no of terms in the Fibonacci sequence:  10\n"
     ]
    },
    {
     "name": "stdout",
     "output_type": "stream",
     "text": [
      "Fibonacci sequence: [1, 2, 3, 5, 8, 13, 21, 34, 55, 89]\n"
     ]
    }
   ],
   "source": [
    "num = int(input(\"Enter the no of terms in the Fibonacci sequence: \"))\n",
    "\n",
    "sequence = [1, 2]\n",
    "for i in range(2, num):\n",
    "  next =sequence[i-1] + sequence[i-2]\n",
    "  sequence.append(next)\n",
    "\n",
    "print('Fibonacci sequence:',sequence) "
   ]
  },
  {
   "cell_type": "code",
   "execution_count": 36,
   "id": "5463bd6f-a583-435b-a5fe-5f50476e931f",
   "metadata": {},
   "outputs": [
    {
     "name": "stdin",
     "output_type": "stream",
     "text": [
      "Enter the capacity of the tank in liters:  450\n",
      "Enter the rate of water leakage in ml/sec:  1\n",
      "Enter the number of days of leakage:  3\n"
     ]
    },
    {
     "name": "stdout",
     "output_type": "stream",
     "text": [
      "The amount of water left in the tank after 3 days is: 190.80 liters\n"
     ]
    }
   ],
   "source": [
    "T = float(input(\"Enter the capacity of the tank in liters: \"))\n",
    "r = float(input(\"Enter the rate of water leakage in ml/sec: \"))\n",
    "d = int(input(\"Enter the number of days of leakage: \"))\n",
    "T_ml = T * 1000\n",
    "d_sec = d * 24 * 60 * 60\n",
    "water_leaked_ml = r * d_sec\n",
    "remaining_water_ml = T_ml - water_leaked_ml\n",
    "remaining_water_liters = remaining_water_ml / 1000\n",
    "print(f\"The amount of water left in the tank after {d} days is: {remaining_water_liters:.2f} liters\")"
   ]
  },
  {
   "cell_type": "code",
   "execution_count": 46,
   "id": "ecc8b1e2-531b-4751-bcc8-11efc0c4e4cb",
   "metadata": {},
   "outputs": [
    {
     "name": "stdin",
     "output_type": "stream",
     "text": [
      "Enter the string: didi\n"
     ]
    },
    {
     "name": "stdout",
     "output_type": "stream",
     "text": [
      "{'didi'} is not a palindrome.\n"
     ]
    }
   ],
   "source": [
    "string=input('Enter the string:')\n",
    "def is_palindrome(s):\n",
    "    s = s.lower().replace(\" \", \"\")\n",
    "    return s == s[::-1] \n",
    "if is_palindrome(string):\n",
    "  print({string},'is a palindrome.')\n",
    "else:\n",
    "  print({string},'is not a palindrome.')"
   ]
  },
  {
   "cell_type": "code",
   "execution_count": 76,
   "id": "97c57e99-4497-4c3c-8a7e-551969681f67",
   "metadata": {},
   "outputs": [
    {
     "name": "stdout",
     "output_type": "stream",
     "text": [
      "The substring country appears at positions: [12]\n"
     ]
    }
   ],
   "source": [
    "main_string = 'India is my country'\n",
    "substring='country'\n",
    "def string(main_string, substring):\n",
    "    positions = []\n",
    "    start = 0\n",
    "    while start < len(main_string):\n",
    "        start = main_string.find(substring, start)\n",
    "        if start == -1:\n",
    "            break\n",
    "        positions.append(start)\n",
    "        start += 1  \n",
    "    return positions\n",
    "positions = string(main_string, substring)\n",
    "print('The substring',substring,'appears at positions:',positions)\n"
   ]
  },
  {
   "cell_type": "code",
   "execution_count": 52,
   "id": "7ec6356d-6a49-4e13-84ba-b3d516399c9f",
   "metadata": {},
   "outputs": [
    {
     "name": "stdout",
     "output_type": "stream",
     "text": [
      "No of words in the string: 8\n"
     ]
    }
   ],
   "source": [
    "def c_words(s):\n",
    "    words = s.split()\n",
    "    return len(words)\n",
    "input_string = \"It is raining now, so please carry umberella\"\n",
    "count = c_words(input_string)\n",
    "print('No of words in the string:',count)\n"
   ]
  },
  {
   "cell_type": "code",
   "execution_count": 75,
   "id": "7c8b2d8f-824a-4a4e-be89-45742a33e680",
   "metadata": {},
   "outputs": [
    {
     "name": "stdin",
     "output_type": "stream",
     "text": [
      "Enter the main string:  BMSC\n",
      "Enter the substring to insert:  COLLEGE\n",
      "Enter the position to insert:  5\n"
     ]
    },
    {
     "name": "stdout",
     "output_type": "stream",
     "text": [
      "New string: BMSCCOLLEGE\n"
     ]
    }
   ],
   "source": [
    "def insert(string, sub_string, position):\n",
    "\n",
    "  return string[:position] + sub_string + string[position:]\n",
    "main_string = input(\"Enter the main string: \")\n",
    "sub_string = input(\"Enter the substring to insert: \")\n",
    "position = int(input(\"Enter the position to insert: \"))\n",
    "new_string = insert(main_string, sub_string, position)\n",
    "print(f\"New string: {new_string}\")"
   ]
  },
  {
   "cell_type": "code",
   "execution_count": null,
   "id": "49609515-f441-4da0-81a1-6fd7e4fe157f",
   "metadata": {},
   "outputs": [],
   "source": []
  }
 ],
 "metadata": {
  "kernelspec": {
   "display_name": "Python 3 (ipykernel)",
   "language": "python",
   "name": "python3"
  },
  "language_info": {
   "codemirror_mode": {
    "name": "ipython",
    "version": 3
   },
   "file_extension": ".py",
   "mimetype": "text/x-python",
   "name": "python",
   "nbconvert_exporter": "python",
   "pygments_lexer": "ipython3",
   "version": "3.12.4"
  }
 },
 "nbformat": 4,
 "nbformat_minor": 5
}
