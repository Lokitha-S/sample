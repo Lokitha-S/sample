{
 "cells": [
  {
   "cell_type": "code",
   "execution_count": 11,
   "id": "2f067654-6a6f-425c-bd62-c7c7148c942a",
   "metadata": {},
   "outputs": [
    {
     "name": "stdout",
     "output_type": "stream",
     "text": [
      "Enter the text quit to start and provide input,to stop.\n"
     ]
    },
    {
     "name": "stdin",
     "output_type": "stream",
     "text": [
      "Enter a number (or 'quit' to stop):  quit\n",
      "Enter a number (or 'quit' to stop):  1\n",
      "Enter a number (or 'quit' to stop):  34\n",
      "Enter a number (or 'quit' to stop):  7\n",
      "Enter a number (or 'quit' to stop):  777\n",
      "Enter a number (or 'quit' to stop):  58\n",
      "Enter a number (or 'quit' to stop):  quit\n"
     ]
    },
    {
     "name": "stdout",
     "output_type": "stream",
     "text": [
      "\n",
      "Odd and Even Numbers:\n",
      "Odd Numbers: [1, 7, 777]\n",
      "Even Numbers: [34, 58]\n",
      "\n",
      "Average of the entered numbers: 175.4\n",
      "\n",
      "Single-digit numbers: [1, 7]\n",
      "Two-digit numbers: [34, 58]\n",
      "Three-digit numbers: [777]\n"
     ]
    }
   ],
   "source": [
    "def main():\n",
    "    print('Enter the text quit to start and provide input,to stop.')    \n",
    "    inputs = []\n",
    "    count = 0\n",
    "\n",
    "    while True:\n",
    "        u_input = input(\"Enter a number (or 'quit' to stop): \")\n",
    "\n",
    "        if u_input.lower() == 'quit':\n",
    "            count += 1\n",
    "            if count == 2:\n",
    "                break\n",
    "            else:\n",
    "                continue\n",
    "        \n",
    "        if u_input.isdigit() or (u_input.startswith('-') and u_input[1:].isdigit()):\n",
    "            inputs.append(int(u_input))\n",
    "        else:\n",
    "            print(\"Invalid input. Please enter a valid number or 'quit'.\")\n",
    "\n",
    "    if inputs:\n",
    "        print(\"\\nOdd and Even Numbers:\")\n",
    "        odd= [num for num in inputs if num % 2 != 0]\n",
    "        even= [num for num in inputs if num % 2 == 0]\n",
    "        \n",
    "        print(\"Odd Numbers:\", odd)\n",
    "        print(\"Even Numbers:\", even)\n",
    "\n",
    "        average = sum(inputs) / len(inputs)\n",
    "        print(f\"\\nAverage of the entered numbers:\",average)\n",
    "\n",
    "        single = [num for num in inputs if -10 < num < 10]\n",
    "        two = [num for num in inputs if -100 < num < 100 and (num <= -10 or num >= 10)]\n",
    "        three = [num for num in inputs if -1000 < num < 1000 and (num <= -100 or num >= 100)]\n",
    "        \n",
    "        print(\"\\nSingle-digit numbers:\", single)\n",
    "        print(\"Two-digit numbers:\", two)\n",
    "        print(\"Three-digit numbers:\", three)\n",
    "    else:\n",
    "        print(\"No valid numbers were entered.\")\n",
    "main()"
   ]
  },
  {
   "cell_type": "code",
   "execution_count": 16,
   "id": "35600409-8a7d-44b0-a3d8-cc24415c38dc",
   "metadata": {},
   "outputs": [
    {
     "name": "stdin",
     "output_type": "stream",
     "text": [
      "Enter a number (or 'quit' to stop):  12\n",
      "Enter a number (or 'quit' to stop):  2\n",
      "Enter a number (or 'quit' to stop):  1\n",
      "Enter a number (or 'quit' to stop):  1\n",
      "Enter a number (or 'quit' to stop):  4\n",
      "Enter a number (or 'quit' to stop):  3\n",
      "Enter a number (or 'quit' to stop):  3\n",
      "Enter a number (or 'quit' to stop):  8\n",
      "Enter a number (or 'quit' to stop):  5\n",
      "Enter a number (or 'quit' to stop):  15\n",
      "Enter a number (or 'quit' to stop):  quit\n"
     ]
    },
    {
     "name": "stdout",
     "output_type": "stream",
     "text": [
      "\n",
      "Results:\n",
      "Addition of elements in the first list: 54\n",
      "Addition of elements in the second list: 0\n",
      "Combined addition of both lists: 54\n",
      "Average of the first list: 5.4\n",
      "Average of the second list: 0\n",
      "Combined average of both lists: 5.4\n"
     ]
    }
   ],
   "source": [
    "def get_input():\n",
    "    first= []\n",
    "    second = []\n",
    "    is_second_list = False\n",
    "    \n",
    "    while True:\n",
    "        u_input = input(\"Enter a number (or 'quit' to stop): \")\n",
    "        \n",
    "        if u_input.lower() == 'quit':\n",
    "            break\n",
    "        \n",
    "        try:\n",
    "            num = int(u_input)\n",
    "        except ValueError:\n",
    "            print(\"Please enter a valid number.\")\n",
    "            continue\n",
    "        \n",
    "        if num== 6 and not is_second_list:\n",
    "            is_second_list = True\n",
    "            print(\"Now entering numbers for the second list.\")\n",
    "            continue\n",
    "        \n",
    "        if is_second_list:\n",
    "            second.append(num)\n",
    "        else:\n",
    "            first.append(num)\n",
    "    \n",
    "    return first, second\n",
    "\n",
    "def addition_of_elements(lst):\n",
    "    return sum(lst)\n",
    "\n",
    "def average_of_elements(lst):\n",
    "    if len(lst) == 0:\n",
    "        return 0\n",
    "    return sum(lst) / len(lst)\n",
    "\n",
    "def main():\n",
    "    first, second= get_input()\n",
    "    \n",
    "    addition_first = addition_of_elements(first)\n",
    "    addition_second = addition_of_elements(second)\n",
    "    combined_addition =addition_first + addition_second\n",
    "    \n",
    "    average_first = average_of_elements(first)\n",
    "    average_second = average_of_elements(second)\n",
    "    combined_average = average_of_elements(first+ second)\n",
    "    \n",
    "    print(\"\\nResults:\")\n",
    "    print(f\"Addition of elements in the first list: {addition_first}\")\n",
    "    print(f\"Addition of elements in the second list: {addition_second}\")\n",
    "    print(f\"Combined addition of both lists: {combined_addition}\")\n",
    "    print(f\"Average of the first list: {average_first}\")\n",
    "    print(f\"Average of the second list: {average_second}\")\n",
    "    print(f\"Combined average of both lists: {combined_average}\")\n",
    "main()"
   ]
  },
  {
   "cell_type": "code",
   "execution_count": 23,
   "id": "181cf337-332a-4232-a67b-054f29cc3cef",
   "metadata": {},
   "outputs": [
    {
     "name": "stdin",
     "output_type": "stream",
     "text": [
      "Enter a number (or 'quit' to stop):  1\n",
      "Enter a number (or 'quit' to stop):  2\n",
      "Enter a number (or 'quit' to stop):  3\n",
      "Enter a number (or 'quit' to stop):  4\n",
      "Enter a number (or 'quit' to stop):  5\n",
      "Enter a number (or 'quit' to stop):  6\n"
     ]
    },
    {
     "name": "stdout",
     "output_type": "stream",
     "text": [
      "Now entering numbers for the second list.\n"
     ]
    },
    {
     "name": "stdin",
     "output_type": "stream",
     "text": [
      "Enter a number (or 'quit' to stop):  11\n",
      "Enter a number (or 'quit' to stop):  34\n",
      "Enter a number (or 'quit' to stop):  56\n",
      "Enter a number (or 'quit' to stop):  quit\n"
     ]
    },
    {
     "ename": "TypeError",
     "evalue": "object of type 'float' has no len()",
     "output_type": "error",
     "traceback": [
      "\u001b[1;31m---------------------------------------------------------------------------\u001b[0m",
      "\u001b[1;31mTypeError\u001b[0m                                 Traceback (most recent call last)",
      "Cell \u001b[1;32mIn[23], line 57\u001b[0m\n\u001b[0;32m     54\u001b[0m     \u001b[38;5;28mprint\u001b[39m(\u001b[38;5;124mf\u001b[39m\u001b[38;5;124m\"\u001b[39m\u001b[38;5;124mAverage of the second list:\u001b[39m\u001b[38;5;124m\"\u001b[39m,d)\n\u001b[0;32m     55\u001b[0m     \u001b[38;5;28mprint\u001b[39m(\u001b[38;5;124mf\u001b[39m\u001b[38;5;124m\"\u001b[39m\u001b[38;5;124mCombined average of both lists:\u001b[39m\u001b[38;5;124m\"\u001b[39m,total_average)\n\u001b[1;32m---> 57\u001b[0m main()\n",
      "Cell \u001b[1;32mIn[23], line 47\u001b[0m, in \u001b[0;36mmain\u001b[1;34m()\u001b[0m\n\u001b[0;32m     45\u001b[0m c \u001b[38;5;241m=\u001b[39m average(first)\n\u001b[0;32m     46\u001b[0m d\u001b[38;5;241m=\u001b[39m average(second)\n\u001b[1;32m---> 47\u001b[0m total_average \u001b[38;5;241m=\u001b[39m average(c\u001b[38;5;241m+\u001b[39md)\n\u001b[0;32m     49\u001b[0m \u001b[38;5;28mprint\u001b[39m(\u001b[38;5;124m\"\u001b[39m\u001b[38;5;130;01m\\n\u001b[39;00m\u001b[38;5;124mResults:\u001b[39m\u001b[38;5;124m\"\u001b[39m)\n\u001b[0;32m     50\u001b[0m \u001b[38;5;28mprint\u001b[39m(\u001b[38;5;124mf\u001b[39m\u001b[38;5;124m\"\u001b[39m\u001b[38;5;124mAddition of elements in the first list:\u001b[39m\u001b[38;5;124m\"\u001b[39m,a)\n",
      "Cell \u001b[1;32mIn[23], line 34\u001b[0m, in \u001b[0;36maverage\u001b[1;34m(lst)\u001b[0m\n\u001b[0;32m     33\u001b[0m \u001b[38;5;28;01mdef\u001b[39;00m \u001b[38;5;21maverage\u001b[39m(lst):\n\u001b[1;32m---> 34\u001b[0m     \u001b[38;5;28;01mif\u001b[39;00m \u001b[38;5;28mlen\u001b[39m(lst) \u001b[38;5;241m==\u001b[39m \u001b[38;5;241m0\u001b[39m:\n\u001b[0;32m     35\u001b[0m         \u001b[38;5;28;01mreturn\u001b[39;00m \u001b[38;5;241m0\u001b[39m\n\u001b[0;32m     36\u001b[0m     \u001b[38;5;28;01mreturn\u001b[39;00m \u001b[38;5;28msum\u001b[39m(lst) \u001b[38;5;241m/\u001b[39m \u001b[38;5;28mlen\u001b[39m(lst)\n",
      "\u001b[1;31mTypeError\u001b[0m: object of type 'float' has no len()"
     ]
    }
   ],
   "source": [
    "def get_input():\n",
    "    first = []\n",
    "    second= []\n",
    "    is_second_list = False\n",
    "    \n",
    "    while True:\n",
    "        uinput = input(\"Enter a number (or 'quit' to stop): \")\n",
    "        \n",
    "        if uinput.lower() == 'quit':\n",
    "            break\n",
    "        \n",
    "        try:\n",
    "            num = int(uinput)\n",
    "        except ValueError:\n",
    "            print(\"Please enter a valid number.\")\n",
    "            continue\n",
    "        \n",
    "        if num == 6 and not is_second_list:\n",
    "            is_second_list = True\n",
    "            print(\"Now entering numbers for the second list.\")\n",
    "            continue\n",
    "        \n",
    "        if is_second_list:\n",
    "            second.append(num)\n",
    "        else:\n",
    "            first.append(num)\n",
    "    \n",
    "    return first, second\n",
    "\n",
    "def addition(lst):\n",
    "    return sum(lst)\n",
    "\n",
    "def average(lst):\n",
    "    if len(lst) == 0:\n",
    "        return 0\n",
    "    return sum(lst) / len(lst)\n",
    "\n",
    "def main():\n",
    "    first, second= get_input()\n",
    "    \n",
    "    a= addition(first)\n",
    "    b = addition(second)\n",
    "    total=a+b\n",
    "    \n",
    "    c = average(first)\n",
    "    d= average(second)\n",
    "    total_average = average(c+d)\n",
    "    \n",
    "    print(\"\\nResults:\")\n",
    "    print(f\"Addition of elements in the first list:\",a)\n",
    "    print(f\"Addition of elements in the second list: \",b)\n",
    "    print(f\"Combined addition of both lists:\",total)\n",
    "    print(f\"Average of the first list: \",c)\n",
    "    print(f\"Average of the second list:\",d)\n",
    "    print(f\"Combined average of both lists:\",total_average)\n",
    "\n",
    "main()\n"
   ]
  },
  {
   "cell_type": "code",
   "execution_count": 24,
   "id": "3af8d3a6-25d4-4a45-911f-631fbf82cede",
   "metadata": {},
   "outputs": [
    {
     "name": "stdin",
     "output_type": "stream",
     "text": [
      "Enter a number (or 'quit' to stop):  1\n",
      "Enter a number (or 'quit' to stop):  2\n",
      "Enter a number (or 'quit' to stop):  3\n",
      "Enter a number (or 'quit' to stop):  4\n",
      "Enter a number (or 'quit' to stop):  5\n",
      "Enter a number (or 'quit' to stop):  6\n"
     ]
    },
    {
     "name": "stdout",
     "output_type": "stream",
     "text": [
      "Now entering numbers for the second list.\n"
     ]
    },
    {
     "name": "stdin",
     "output_type": "stream",
     "text": [
      "Enter a number (or 'quit' to stop):  2\n",
      "Enter a number (or 'quit' to stop):  36\n",
      "Enter a number (or 'quit' to stop):  4\n",
      "Enter a number (or 'quit' to stop):  quit\n"
     ]
    },
    {
     "name": "stdout",
     "output_type": "stream",
     "text": [
      "\n",
      "Results:\n",
      "Addition of elements in the first list: 15\n",
      "Addition of elements in the second list: 42\n",
      "Combined addition of both lists: 57\n",
      "Average of the first list: 3.0\n",
      "Average of the second list: 14.0\n",
      "Combined average of both lists: 7.125\n"
     ]
    }
   ],
   "source": [
    "def get_input():\n",
    "    first_list = []\n",
    "    second_list = []\n",
    "    is_second_list = False\n",
    "    \n",
    "    while True:\n",
    "        user_input = input(\"Enter a number (or 'quit' to stop): \")\n",
    "        \n",
    "        if user_input.lower() == 'quit':\n",
    "            break\n",
    "        \n",
    "        try:\n",
    "            number = int(user_input)\n",
    "        except ValueError:\n",
    "            print(\"Please enter a valid number.\")\n",
    "            continue\n",
    "        \n",
    "        if number == 6 and not is_second_list:\n",
    "            is_second_list = True\n",
    "            print(\"Now entering numbers for the second list.\")\n",
    "            continue\n",
    "        \n",
    "        if is_second_list:\n",
    "            second_list.append(number)\n",
    "        else:\n",
    "            first_list.append(number)\n",
    "    \n",
    "    return first_list, second_list\n",
    "\n",
    "def addition_of_elements(lst):\n",
    "    return sum(lst)\n",
    "\n",
    "def average_of_elements(lst):\n",
    "    if len(lst) == 0:\n",
    "        return 0\n",
    "    return sum(lst) / len(lst)\n",
    "\n",
    "def main():\n",
    "    first_list, second_list = get_input()\n",
    "    \n",
    "    total_addition_first = addition_of_elements(first_list)\n",
    "    total_addition_second = addition_of_elements(second_list)\n",
    "    combined_addition = total_addition_first + total_addition_second\n",
    "    \n",
    "    average_first = average_of_elements(first_list)\n",
    "    average_second = average_of_elements(second_list)\n",
    "    combined_average = average_of_elements(first_list + second_list)\n",
    "    \n",
    "    print(\"\\nResults:\")\n",
    "    print(f\"Addition of elements in the first list: {total_addition_first}\")\n",
    "    print(f\"Addition of elements in the second list: {total_addition_second}\")\n",
    "    print(f\"Combined addition of both lists: {combined_addition}\")\n",
    "    print(f\"Average of the first list: {average_first}\")\n",
    "    print(f\"Average of the second list: {average_second}\")\n",
    "    print(f\"Combined average of both lists: {combined_average}\")\n",
    "main()\n"
   ]
  },
  {
   "cell_type": "code",
   "execution_count": null,
   "id": "341fabe2-fca1-4e90-84fe-9ede1d68eb62",
   "metadata": {},
   "outputs": [],
   "source": []
  }
 ],
 "metadata": {
  "kernelspec": {
   "display_name": "Python 3 (ipykernel)",
   "language": "python",
   "name": "python3"
  },
  "language_info": {
   "codemirror_mode": {
    "name": "ipython",
    "version": 3
   },
   "file_extension": ".py",
   "mimetype": "text/x-python",
   "name": "python",
   "nbconvert_exporter": "python",
   "pygments_lexer": "ipython3",
   "version": "3.12.4"
  }
 },
 "nbformat": 4,
 "nbformat_minor": 5
}
